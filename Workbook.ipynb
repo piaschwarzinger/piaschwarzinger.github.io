{
 "cells": [
  {
   "cell_type": "markdown",
   "metadata": {},
   "source": [
    "# Homework 6"
   ]
  },
  {
   "cell_type": "markdown",
   "metadata": {},
   "source": [
    "At first I am importing all the necessary packages and data."
   ]
  },
  {
   "cell_type": "code",
   "execution_count": 1,
   "metadata": {},
   "outputs": [],
   "source": [
    "import altair as alt\n",
    "import pandas as pd\n",
    "\n",
    "url = \"https://raw.githubusercontent.com/UIUC-iSchool-DataViz/is445_data/main/building_inventory.csv\"\n",
    "data = pd.read_csv(url)"
   ]
  },
  {
   "cell_type": "markdown",
   "metadata": {},
   "source": [
    "Then the data is filtered and aggregated."
   ]
  },
  {
   "cell_type": "code",
   "execution_count": 2,
   "metadata": {},
   "outputs": [],
   "source": [
    "filtered_data = data[(data['Year Acquired'] > 1900) & (data['Agency Name'] == 'Department of Natural Resources')]\n",
    "data['Year Group'] = (data['Year Acquired'] // 5) * 5\n",
    "aggregated_data = data.groupby('Year Group').size().reset_index(name='Building Count')"
   ]
  },
  {
   "cell_type": "markdown",
   "metadata": {},
   "source": [
    "## Plot 1"
   ]
  },
  {
   "cell_type": "markdown",
   "metadata": {},
   "source": [
    "The code for the first visualization closely follows the code from Homework 5, but shows building acquisition trends over time in 5-year intervals."
   ]
  },
  {
   "cell_type": "code",
   "execution_count": 3,
   "metadata": {},
   "outputs": [],
   "source": [
    "line_chart = alt.Chart(aggregated_data).mark_line(point=True).encode(\n",
    "    x=alt.X('Year Group:O', title='Year Acquired (5-Year Intervals)', axis=alt.Axis(labelAngle=-45)),\n",
    "    y=alt.Y('Building Count:Q', title='Number of Buildings Acquired'),\n",
    "    tooltip=['Year Group', 'Building Count']\n",
    ").properties(\n",
    "    width=600,\n",
    "    height=400,\n",
    "    title=\"Buildings Acquired by Year (Department of Natural Resources)\"\n",
    ")\n",
    "\n",
    "line_chart.save(\"line_chart.json\")"
   ]
  },
  {
   "cell_type": "markdown",
   "metadata": {},
   "source": [
    "## Plot 2"
   ]
  },
  {
   "cell_type": "markdown",
   "metadata": {},
   "source": [
    "Similarily, the code for plot 2 also follows the one from last homework, but includes additional interactive elements."
   ]
  },
  {
   "cell_type": "code",
   "execution_count": 4,
   "metadata": {},
   "outputs": [],
   "source": [
    "usage_selector = alt.selection_point(\n",
    "    fields=['Usage Description'], \n",
    "    bind='legend',  # Allows selection by directly clicking on bars\n",
    "    toggle='event.altKey',  # Holds 'Alt' key to toggle selection\n",
    ")\n",
    "\n",
    "bar_chart = alt.Chart(filtered_data).mark_bar().encode(\n",
    "    x=alt.X('Usage Description:N', title='Usage Type', sort='-y'),\n",
    "    y=alt.Y('count()', title='Count of Buildings'),\n",
    "    color=alt.condition(usage_selector, alt.Color('Usage Description:N', scale=alt.Scale(scheme='category20')), alt.value('lightgray')),\n",
    "    tooltip=['Usage Description', 'count()']\n",
    ").add_params(\n",
    "    usage_selector\n",
    ").properties(\n",
    "    width=600,\n",
    "    height=400,\n",
    "    title=\"Distribution of Building Usage Types\"\n",
    ")\n",
    "\n",
    "bar_chart.save(\"bar_chart.json\")"
   ]
  }
 ],
 "metadata": {
  "kernelspec": {
   "display_name": "Python 3",
   "language": "python",
   "name": "python3"
  },
  "language_info": {
   "codemirror_mode": {
    "name": "ipython",
    "version": 3
   },
   "file_extension": ".py",
   "mimetype": "text/x-python",
   "name": "python",
   "nbconvert_exporter": "python",
   "pygments_lexer": "ipython3",
   "version": "3.8.6"
  }
 },
 "nbformat": 4,
 "nbformat_minor": 4
}
